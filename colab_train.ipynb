{
  "cells": [
    {
      "cell_type": "markdown",
      "metadata": {
        "id": "O6_2jW24FNzp"
      },
      "source": [
        "## Get Data"
      ]
    },
    {
      "cell_type": "code",
      "source": [
        "!git clone https://github.com/logan-mo/FYP-mass-surveillance-using-machine-learning.git"
      ],
      "metadata": {
        "id": "uJIuD88UFclZ"
      },
      "execution_count": null,
      "outputs": []
    },
    {
      "cell_type": "code",
      "execution_count": null,
      "metadata": {
        "id": "_0nkwN5MFNzs"
      },
      "outputs": [],
      "source": [
        "!sudo apt install unzip"
      ]
    },
    {
      "cell_type": "code",
      "execution_count": null,
      "metadata": {
        "id": "KknW8mB_FNzt"
      },
      "outputs": [],
      "source": [
        "!gdown 1lysOsn0kHIYiJ9DYgzTrvg08Q_DJlic9"
      ]
    },
    {
      "cell_type": "code",
      "execution_count": null,
      "metadata": {
        "id": "h3nD9juAFNzu"
      },
      "outputs": [],
      "source": [
        "!unzip -q split_data.zip"
      ]
    },
    {
      "cell_type": "code",
      "source": [
        "!pip install -r /content/FYP-mass-surveillance-using-machine-learning/requirements.txt"
      ],
      "metadata": {
        "id": "JdJOSncTFhqA"
      },
      "execution_count": null,
      "outputs": []
    },
    {
      "cell_type": "markdown",
      "metadata": {
        "id": "UyEjPPFLFNzu"
      },
      "source": [
        "## Train"
      ]
    },
    {
      "cell_type": "code",
      "execution_count": null,
      "metadata": {
        "id": "Tf9j1_WNFNzu"
      },
      "outputs": [],
      "source": [
        "from ultralytics import YOLO\n",
        "\n",
        "model = YOLO('yolov8n.pt')  # initialize"
      ]
    },
    {
      "cell_type": "code",
      "execution_count": null,
      "metadata": {
        "id": "Amn6Zyd4FNzu"
      },
      "outputs": [],
      "source": [
        "model.train(data='/content/FYP-mass-surveillance-using-machine-learning/data.yaml', epochs=1)  # train"
      ]
    },
    {
      "cell_type": "code",
      "execution_count": null,
      "metadata": {
        "colab": {
          "base_uri": "https://localhost:8080/"
        },
        "id": "TsD-ufAuFNzv",
        "outputId": "2ebad566-4dfc-46dd-a986-6f9414a2bb1f"
      },
      "outputs": [
        {
          "output_type": "execute_result",
          "data": {
            "text/plain": [
              "False"
            ]
          },
          "metadata": {},
          "execution_count": 1
        }
      ],
      "source": [
        "import torch\n",
        "\n",
        "torch.cuda.is_available()"
      ]
    },
    {
      "cell_type": "code",
      "source": [
        "!pip install -U torch --index-url https://download.pytorch.org/whl/cu118"
      ],
      "metadata": {
        "id": "AOQqR9aZGZ9-"
      },
      "execution_count": null,
      "outputs": []
    },
    {
      "cell_type": "code",
      "source": [],
      "metadata": {
        "id": "bzkEytNzGqQo"
      },
      "execution_count": null,
      "outputs": []
    }
  ],
  "metadata": {
    "kernelspec": {
      "display_name": "Python 3",
      "name": "python3"
    },
    "language_info": {
      "codemirror_mode": {
        "name": "ipython",
        "version": 3
      },
      "file_extension": ".py",
      "mimetype": "text/x-python",
      "name": "python",
      "nbconvert_exporter": "python",
      "pygments_lexer": "ipython3",
      "version": "3.10.11"
    },
    "colab": {
      "provenance": [],
      "gpuType": "T4"
    },
    "accelerator": "GPU"
  },
  "nbformat": 4,
  "nbformat_minor": 0
}